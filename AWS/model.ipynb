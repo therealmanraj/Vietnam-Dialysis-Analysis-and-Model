{
 "cells": [
  {
   "cell_type": "markdown",
   "metadata": {},
   "source": [
    "# Imports"
   ]
  },
  {
   "cell_type": "code",
   "execution_count": 45,
   "metadata": {},
   "outputs": [],
   "source": [
    "import pandas as pd\n",
    "import numpy as np\n",
    "\n",
    "pd.set_option(\"display.max_columns\",None)"
   ]
  },
  {
   "cell_type": "code",
   "execution_count": 46,
   "metadata": {},
   "outputs": [],
   "source": [
    "import warnings\n",
    "warnings.filterwarnings(\"ignore\")"
   ]
  },
  {
   "cell_type": "code",
   "execution_count": 47,
   "metadata": {},
   "outputs": [],
   "source": [
    "df = pd.read_excel('data.xls')"
   ]
  },
  {
   "cell_type": "code",
   "execution_count": 48,
   "metadata": {},
   "outputs": [],
   "source": [
    "df.rename(columns={\n",
    "    'Chieucao': 'Height',\n",
    "    'Cannang': 'Weight',\n",
    "    'Duongvao': 'Route of Entry',\n",
    "    'THA': 'Hypertension',\n",
    "    'DTD': 'Diabetes',\n",
    "    'Thomay': 'Mechanical Ventilation',\n",
    "    'Mach': 'Pulse',\n",
    "    'Nhietdo': 'Temperature',\n",
    "    'HATB': 'Mean Arterial Pressure',\n",
    "    'Nhiptho': 'Respiratory Rate',\n",
    "    'Lactac0': 'Lactate',\n",
    "    'Ure': 'Urea',\n",
    "    'Creatinin': 'Creatinine',\n",
    "    'PCT0': 'Procalcitonin',\n",
    "    'BiLIrubin': 'Bilirubin',\n",
    "    'BC0': 'White Blood Cell Count',\n",
    "    'Kết cục tổn thương thận cấp':'Outcome of acute kidney injury',\n",
    "    'Điều trị lọc máu':'Dialysis treatment'\n",
    "}, inplace=True)"
   ]
  },
  {
   "cell_type": "code",
   "execution_count": 49,
   "metadata": {},
   "outputs": [],
   "source": [
    "df.drop(columns=['Unnamed: 25', 'STT'],inplace=True)"
   ]
  },
  {
   "cell_type": "code",
   "execution_count": 50,
   "metadata": {},
   "outputs": [],
   "source": [
    "scaling_factors = {\n",
    "    \"Procalcitonin\": 1000,          \n",
    "    \"White Blood Cell Count\": 10,   \n",
    "    \"Creatinine\": 88.4,             \n",
    "    \"Urea\": 2.14,                   \n",
    "    \"Bilirubin\": 17.1,              \n",
    "    \"Albumin\": 10                   \n",
    "}\n",
    "\n",
    "for col, factor in scaling_factors.items():\n",
    "    df[col] = df[col] / factor\n"
   ]
  },
  {
   "cell_type": "code",
   "execution_count": 51,
   "metadata": {},
   "outputs": [],
   "source": [
    "different_distribution_features = [\n",
    "    \"SOFA\",  \n",
    "    \"APACHEII\",  \n",
    "    \"Mean Arterial Pressure\",  \n",
    "    \"Lactate\",  \n",
    "    \"Creatinine\",  \n",
    "    \"Procalcitonin\",  \n",
    "    \"Bilirubin\",  \n",
    "    \"White Blood Cell Count\",  \n",
    "]"
   ]
  },
  {
   "cell_type": "code",
   "execution_count": 52,
   "metadata": {},
   "outputs": [],
   "source": [
    "columns_to_impute = [\"Respiratory Rate\", \"Albumin\", 'Bilirubin', 'Procalcitonin', 'HCO3']\n",
    "\n",
    "df[columns_to_impute] = df.groupby([\"Gender\", \"Hypertension\", \"Outcome of acute kidney injury\"])[columns_to_impute].transform(lambda x: x.fillna(x.median()))"
   ]
  },
  {
   "cell_type": "code",
   "execution_count": 53,
   "metadata": {},
   "outputs": [],
   "source": [
    "df_transformed = df.copy()\n",
    "\n",
    "log_transform_cols = ['Procalcitonin', 'Creatinine', 'Urea', 'Lactate', 'HCO3', 'Mean Arterial Pressure']\n",
    "sqrt_transform_cols = ['White Blood Cell Count', 'APACHEII', 'SOFA']\n",
    "\n",
    "for col in log_transform_cols + sqrt_transform_cols:\n",
    "    if col in log_transform_cols:\n",
    "        df_transformed[col] = np.log1p(df[col])\n",
    "        df[col] = np.log1p(df[col])\n",
    "        \n",
    "    if col in sqrt_transform_cols:\n",
    "        df_transformed[col] = np.sqrt(df[col].clip(lower=0))\n",
    "        df[col] = np.sqrt(df[col].clip(lower=0))"
   ]
  },
  {
   "cell_type": "code",
   "execution_count": 54,
   "metadata": {},
   "outputs": [],
   "source": [
    "def remove_outliers(df):\n",
    "    cols = ['Mechanical Ventilation', 'Procalcitonin', 'Creatinine',\n",
    "            'Bilirubin', 'White Blood Cell Count']\n",
    "\n",
    "    df_clean = df.copy()\n",
    "\n",
    "    for col in cols:\n",
    "        q1 = df_clean[col].quantile(0.25)\n",
    "        q3 = df_clean[col].quantile(0.75)\n",
    "        iqr = q3 - q1\n",
    "\n",
    "        lower = q1 - 2.5 * iqr\n",
    "        upper = q3 + 2.5 * iqr\n",
    "        \n",
    "        df_clean = df_clean[(df_clean[col] >= lower) & (df_clean[col] <= upper)]\n",
    "    \n",
    "    return df_clean\n"
   ]
  },
  {
   "cell_type": "code",
   "execution_count": 55,
   "metadata": {},
   "outputs": [],
   "source": [
    "df1 = df.iloc[:98, :].copy()\n",
    "df2 = df.iloc[99:210, :].copy()\n",
    "df3 = df.iloc[211:411, :].copy()\n",
    "df4 = df.iloc[412:531, :].copy()"
   ]
  },
  {
   "cell_type": "code",
   "execution_count": 56,
   "metadata": {},
   "outputs": [],
   "source": [
    "df1 = remove_outliers(df1)\n",
    "df2 = remove_outliers(df2)\n",
    "df3 = remove_outliers(df3)\n",
    "df4 = remove_outliers(df4)\n",
    "\n",
    "df = pd.concat([df1,df2,df3,df4])"
   ]
  },
  {
   "cell_type": "code",
   "execution_count": 57,
   "metadata": {},
   "outputs": [],
   "source": [
    "df.to_csv(\"Cleaned.csv\", index=False)"
   ]
  }
 ],
 "metadata": {
  "kernelspec": {
   "display_name": "Python 3",
   "language": "python",
   "name": "python3"
  },
  "language_info": {
   "codemirror_mode": {
    "name": "ipython",
    "version": 3
   },
   "file_extension": ".py",
   "mimetype": "text/x-python",
   "name": "python",
   "nbconvert_exporter": "python",
   "pygments_lexer": "ipython3",
   "version": "3.12.0"
  }
 },
 "nbformat": 4,
 "nbformat_minor": 2
}
