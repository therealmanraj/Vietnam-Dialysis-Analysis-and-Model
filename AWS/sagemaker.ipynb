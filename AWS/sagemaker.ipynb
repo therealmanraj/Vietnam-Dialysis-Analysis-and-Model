{
 "cells": [
  {
   "cell_type": "code",
   "execution_count": null,
   "id": "117a1910",
   "metadata": {},
   "outputs": [],
   "source": [
    "import sagemaker\n",
    "from sagemaker.sklearn.model import SKLearnModel"
   ]
  },
  {
   "cell_type": "code",
   "execution_count": null,
   "id": "8cd59d0c",
   "metadata": {},
   "outputs": [],
   "source": [
    "role = \"arn:aws:iam::YOUR_ACCOUNT_ID:role/service-role/AmazonSageMaker-ExecutionRole-XXXX\""
   ]
  },
  {
   "cell_type": "code",
   "execution_count": null,
   "id": "323302db",
   "metadata": {},
   "outputs": [],
   "source": [
    "sklearn_model = SKLearnModel(\n",
    "    model_data=\"s3://aki-model-bucket/aki_pipeline_and_model.joblib\",\n",
    "    role=role,\n",
    "    entry_point=\"inference.py\",\n",
    "    framework_version=\"0.23-1\",\n",
    "    py_version=\"py3\"\n",
    ")"
   ]
  },
  {
   "cell_type": "code",
   "execution_count": null,
   "id": "4a192b0a",
   "metadata": {},
   "outputs": [],
   "source": [
    "predictor = sklearn_model.deploy(\n",
    "    initial_instance_count=1,\n",
    "    instance_type=\"ml.m5.large\",\n",
    "    endpoint_name=\"aki-pipeline-endpoint\"\n",
    ")"
   ]
  }
 ],
 "metadata": {
  "language_info": {
   "name": "python"
  }
 },
 "nbformat": 4,
 "nbformat_minor": 5
}
